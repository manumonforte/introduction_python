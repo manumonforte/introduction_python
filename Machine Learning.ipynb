{
 "cells": [
  {
   "cell_type": "markdown",
   "metadata": {},
   "source": [
    "# Machine Learning"
   ]
  },
  {
   "cell_type": "markdown",
   "metadata": {},
   "source": [
    "## Regresion Lineal"
   ]
  },
  {
   "cell_type": "code",
   "execution_count": 46,
   "metadata": {},
   "outputs": [],
   "source": [
    "import pandas as pd\n",
    "import numpy as np"
   ]
  },
  {
   "cell_type": "code",
   "execution_count": 47,
   "metadata": {},
   "outputs": [],
   "source": [
    "%matplotlib inline\n",
    "import matplotlib.pyplot as plt\n",
    "plt.rcParams['figure.figsize'] = (12,12)\n",
    "plt.rcParams['font.size'] = 16"
   ]
  },
  {
   "cell_type": "code",
   "execution_count": 48,
   "metadata": {},
   "outputs": [],
   "source": [
    "vehiculos = pd.read_csv(\"data/vehiculos_procesado.csv\", \n",
    "                 usecols=[\"consumo\", \"co2\", \"cilindros\",\"desplazamiento\"])\n",
    "\n",
    "\n",
    "litros_por_galon =  3.78541\n",
    "vehiculos[\"consumo_litros_milla\"] = litros_por_galon/ vehiculos.consumo\n",
    "\n"
   ]
  },
  {
   "cell_type": "code",
   "execution_count": 49,
   "metadata": {},
   "outputs": [
    {
     "data": {
      "text/plain": [
       "(35539, 5)"
      ]
     },
     "execution_count": 49,
     "metadata": {},
     "output_type": "execute_result"
    }
   ],
   "source": [
    "vehiculos.shape"
   ]
  },
  {
   "cell_type": "code",
   "execution_count": 50,
   "metadata": {},
   "outputs": [
    {
     "data": {
      "text/html": [
       "<div>\n",
       "<style scoped>\n",
       "    .dataframe tbody tr th:only-of-type {\n",
       "        vertical-align: middle;\n",
       "    }\n",
       "\n",
       "    .dataframe tbody tr th {\n",
       "        vertical-align: top;\n",
       "    }\n",
       "\n",
       "    .dataframe thead th {\n",
       "        text-align: right;\n",
       "    }\n",
       "</style>\n",
       "<table border=\"1\" class=\"dataframe\">\n",
       "  <thead>\n",
       "    <tr style=\"text-align: right;\">\n",
       "      <th></th>\n",
       "      <th>desplazamiento</th>\n",
       "      <th>cilindros</th>\n",
       "      <th>consumo</th>\n",
       "      <th>co2</th>\n",
       "      <th>intake_liter_mile</th>\n",
       "    </tr>\n",
       "  </thead>\n",
       "  <tbody>\n",
       "    <tr>\n",
       "      <th>0</th>\n",
       "      <td>2.5</td>\n",
       "      <td>4.0</td>\n",
       "      <td>17</td>\n",
       "      <td>522.764706</td>\n",
       "      <td>0.222671</td>\n",
       "    </tr>\n",
       "    <tr>\n",
       "      <th>1</th>\n",
       "      <td>4.2</td>\n",
       "      <td>6.0</td>\n",
       "      <td>13</td>\n",
       "      <td>683.615385</td>\n",
       "      <td>0.291185</td>\n",
       "    </tr>\n",
       "    <tr>\n",
       "      <th>2</th>\n",
       "      <td>2.5</td>\n",
       "      <td>4.0</td>\n",
       "      <td>16</td>\n",
       "      <td>555.437500</td>\n",
       "      <td>0.236588</td>\n",
       "    </tr>\n",
       "    <tr>\n",
       "      <th>3</th>\n",
       "      <td>4.2</td>\n",
       "      <td>6.0</td>\n",
       "      <td>13</td>\n",
       "      <td>683.615385</td>\n",
       "      <td>0.291185</td>\n",
       "    </tr>\n",
       "    <tr>\n",
       "      <th>4</th>\n",
       "      <td>3.8</td>\n",
       "      <td>6.0</td>\n",
       "      <td>16</td>\n",
       "      <td>555.437500</td>\n",
       "      <td>0.236588</td>\n",
       "    </tr>\n",
       "  </tbody>\n",
       "</table>\n",
       "</div>"
      ],
      "text/plain": [
       "   desplazamiento  cilindros  consumo         co2  intake_liter_mile\n",
       "0             2.5        4.0       17  522.764706           0.222671\n",
       "1             4.2        6.0       13  683.615385           0.291185\n",
       "2             2.5        4.0       16  555.437500           0.236588\n",
       "3             4.2        6.0       13  683.615385           0.291185\n",
       "4             3.8        6.0       16  555.437500           0.236588"
      ]
     },
     "execution_count": 50,
     "metadata": {},
     "output_type": "execute_result"
    }
   ],
   "source": [
    "vehicles.head()"
   ]
  },
  {
   "cell_type": "markdown",
   "metadata": {},
   "source": [
    "El modelo de regresión lineal mediante OLS (ordinary least squares) tiene la forma:\n",
    "\n",
    "                                𝑦̂ =𝛼+𝛽1∗𝑥1+𝛽2∗𝑥2+...+𝛽𝑛∗𝑥𝑛+𝜀\n",
    "\n",
    "Donde **𝑦̂** es la predicción que queremos hacer, **𝛼** es el término independiente, **𝛽𝑛** es un vector de coeficientes y **𝑥𝑛** son los valores de las variables del dataset. El objetivo es obtener **𝛼** y **𝛽𝑛** tales que error cuadrático (residuo) , definido como:\n",
    "\n",
    "                                𝑅𝑆𝑆=𝜀²=∑𝑖=1𝑛(𝑦𝑖−(𝛼−𝛽𝑖𝑥𝑖))2\n",
    "\n",
    "sea el mínimo.\n",
    "\n",
    "Para ello tenemos que resolver las siguientes equaciones\n",
    "\n",
    "                                   𝛼̂ =𝑦¯−𝛽̂ ∗𝑥¯ \n",
    "                                   𝛽̂ =(𝑋𝑇𝑋)−1𝑋𝑇𝑦 "
   ]
  },
  {
   "cell_type": "markdown",
   "metadata": {},
   "source": [
    "Para obtener los coeficientes del modelo dedicamos una fracción del dataset a entrenar y otra a evaluar los resultados (para evitar sobreajuste o sobregeneralización)"
   ]
  },
  {
   "cell_type": "code",
   "execution_count": 51,
   "metadata": {},
   "outputs": [],
   "source": [
    "pct_entrenamiento = 0.8"
   ]
  },
  {
   "cell_type": "code",
   "execution_count": 52,
   "metadata": {},
   "outputs": [
    {
     "name": "stdout",
     "output_type": "stream",
     "text": [
      "(28431, 5)\n",
      "(7108, 5)\n"
     ]
    }
   ],
   "source": [
    "vehiculos_training = vehiculos.sample(frac=pct_entrenamiento)\n",
    "\n",
    "\n",
    "vehiculos_test = vehiculos[~vehiculos.index.isin(vehiculos_training.index)]\n",
    "\n",
    "print(vehiculos_training.shape)\n",
    "print(vehiculos_test.shape)"
   ]
  },
  {
   "cell_type": "code",
   "execution_count": 53,
   "metadata": {},
   "outputs": [
    {
     "name": "stderr",
     "output_type": "stream",
     "text": [
      "C:\\Users\\manu_\\Anaconda3\\lib\\site-packages\\ipykernel_launcher.py:3: FutureWarning: Method .as_matrix will be removed in a future version. Use .values instead.\n",
      "  This is separate from the ipykernel package so we can avoid doing imports until\n",
      "C:\\Users\\manu_\\Anaconda3\\lib\\site-packages\\ipykernel_launcher.py:4: FutureWarning: Method .as_matrix will be removed in a future version. Use .values instead.\n",
      "  after removing the cwd from sys.path.\n"
     ]
    }
   ],
   "source": [
    "variables_independientes = ['desplazamiento', 'cilindros','consumo_litros_milla']\n",
    "variable_dependiente = 'co2'\n",
    "X = vehiculos_training[variables_independientes].as_matrix()\n",
    "y = vehiculos_training[variable_dependiente].as_matrix()\n",
    "X_T = X.T"
   ]
  },
  {
   "cell_type": "code",
   "execution_count": 54,
   "metadata": {},
   "outputs": [
    {
     "data": {
      "text/plain": [
       "array([[2.5       , 4.        , 0.18025762],\n",
       "       [4.3       , 6.        , 0.23658813],\n",
       "       [3.        , 6.        , 0.21030056],\n",
       "       ...,\n",
       "       [3.2       , 6.        , 0.21030056],\n",
       "       [3.8       , 6.        , 0.21030056],\n",
       "       [2.3       , 4.        , 0.1514164 ]])"
      ]
     },
     "execution_count": 54,
     "metadata": {},
     "output_type": "execute_result"
    }
   ],
   "source": [
    "X"
   ]
  },
  {
   "cell_type": "code",
   "execution_count": 55,
   "metadata": {},
   "outputs": [
    {
     "data": {
      "text/plain": [
       "array([423.19047619, 555.4375    , 493.72222222, ..., 493.72222222,\n",
       "       493.72222222, 355.48      ])"
      ]
     },
     "execution_count": 55,
     "metadata": {},
     "output_type": "execute_result"
    }
   ],
   "source": [
    "y"
   ]
  },
  {
   "cell_type": "code",
   "execution_count": 56,
   "metadata": {},
   "outputs": [
    {
     "data": {
      "text/plain": [
       "array([ 3.69595447e+00, -5.76390039e-01,  2.30641103e+03])"
      ]
     },
     "execution_count": 56,
     "metadata": {},
     "output_type": "execute_result"
    }
   ],
   "source": [
    "betas = np.linalg.inv(X_T @ X) @ X_T @ y\n",
    "betas"
   ]
  },
  {
   "cell_type": "code",
   "execution_count": 57,
   "metadata": {},
   "outputs": [
    {
     "data": {
      "text/plain": [
       "470.43661403027"
      ]
     },
     "execution_count": 57,
     "metadata": {},
     "output_type": "execute_result"
    }
   ],
   "source": [
    "y.mean()"
   ]
  },
  {
   "cell_type": "code",
   "execution_count": 58,
   "metadata": {},
   "outputs": [
    {
     "name": "stderr",
     "output_type": "stream",
     "text": [
      "C:\\Users\\manu_\\Anaconda3\\lib\\site-packages\\ipykernel_launcher.py:1: FutureWarning: Method .as_matrix will be removed in a future version. Use .values instead.\n",
      "  \"\"\"Entry point for launching an IPython kernel.\n"
     ]
    },
    {
     "data": {
      "text/plain": [
       "0.3539591541214122"
      ]
     },
     "execution_count": 58,
     "metadata": {},
     "output_type": "execute_result"
    }
   ],
   "source": [
    "alfa = y.mean() - np.dot(betas,vehiculos_training[variables_independientes].mean().as_matrix())\n",
    "alfa"
   ]
  },
  {
   "cell_type": "code",
   "execution_count": 59,
   "metadata": {},
   "outputs": [],
   "source": [
    "def predecir(r):\n",
    "    return alfa + np.dot(betas, r.values)"
   ]
  },
  {
   "cell_type": "code",
   "execution_count": 60,
   "metadata": {},
   "outputs": [
    {
     "name": "stderr",
     "output_type": "stream",
     "text": [
      "C:\\Users\\manu_\\Anaconda3\\lib\\site-packages\\ipykernel_launcher.py:3: SettingWithCopyWarning: \n",
      "A value is trying to be set on a copy of a slice from a DataFrame.\n",
      "Try using .loc[row_indexer,col_indexer] = value instead\n",
      "\n",
      "See the caveats in the documentation: http://pandas.pydata.org/pandas-docs/stable/indexing.html#indexing-view-versus-copy\n",
      "  This is separate from the ipykernel package so we can avoid doing imports until\n"
     ]
    }
   ],
   "source": [
    "vehiculos_training[\"co2_pred\"] = vehiculos_training[variables_independientes].apply(\n",
    "    predecir, axis=1)\n",
    "vehiculos_test[\"co2_pred\"] = vehiculos_test[variables_independientes].apply(predecir, axis=1)"
   ]
  },
  {
   "cell_type": "code",
   "execution_count": 61,
   "metadata": {},
   "outputs": [
    {
     "data": {
      "text/plain": [
       "'y ~ 0.354 + 3.70*desplazamiento + -0.58*cilindros + 2306.411*consumo_litros_milla'"
      ]
     },
     "execution_count": 61,
     "metadata": {},
     "output_type": "execute_result"
    }
   ],
   "source": [
    "model_formula = \"y ~ {alfa:.3f} + {beta_1:.2f}*desplazamiento + {beta_2:.2f}*cilindros + {beta_3:.3f}*consumo_litros_milla\".format(\n",
    "    alfa=alfa, beta_1=betas[0], beta_2=betas[1], beta_3=betas[2])\n",
    "model_formula"
   ]
  },
  {
   "cell_type": "code",
   "execution_count": 62,
   "metadata": {},
   "outputs": [
    {
     "data": {
      "image/png": "[encoded data removed]",
      "text/plain": [
       "<Figure size 864x864 with 1 Axes>"
      ]
     },
     "metadata": {
      "needs_background": "light"
     },
     "output_type": "display_data"
    }
   ],
   "source": [
    "plt.scatter(vehiculos_test.consumo_litros_milla, vehiculos_test.co2, alpha=0.5, label=\"real\")\n",
    "plt.text(0.1, 850, model_formula)\n",
    "plt.plot(vehiculos_test.consumo_litros_milla,vehiculos_test.co2_pred, c=\"black\", label=\"prediccion\")\n",
    "plt.xlabel(\"Consumo combustible (litros/milla)\")\n",
    "plt.ylabel(\"emisión CO2 gramos/milla\")\n",
    "plt.legend();"
   ]
  },
  {
   "cell_type": "code",
   "execution_count": 63,
   "metadata": {},
   "outputs": [],
   "source": [
    "def error_cuadrático_medio(y, y_pred):\n",
    "    return np.sum((y-y_pred)**2)/len(y)"
   ]
  },
  {
   "cell_type": "code",
   "execution_count": 64,
   "metadata": {},
   "outputs": [
    {
     "data": {
      "text/plain": [
       "124.3953219307895"
      ]
     },
     "execution_count": 64,
     "metadata": {},
     "output_type": "execute_result"
    }
   ],
   "source": [
    "error_training = error_cuadrático_medio(vehiculos_training.co2, vehiculos_training.co2_pred)\n",
    "error_training"
   ]
  },
  {
   "cell_type": "code",
   "execution_count": 65,
   "metadata": {},
   "outputs": [
    {
     "data": {
      "text/plain": [
       "158.9725679961479"
      ]
     },
     "execution_count": 65,
     "metadata": {},
     "output_type": "execute_result"
    }
   ],
   "source": [
    "error_test = error_cuadrático_medio(vehiculos_test.co2, vehiculos_test.co2_pred)\n",
    "error_test"
   ]
  },
  {
   "cell_type": "markdown",
   "metadata": {},
   "source": [
    "### Regresion Lineal con sklearn"
   ]
  },
  {
   "cell_type": "markdown",
   "metadata": {},
   "source": [
    "Para prácticar el Análisis Exploratorio de Datos, vamos a usar una versión modificada del dataset [The Movies Dataset](https://www.kaggle.com/rounakbanik/the-movies-dataset) que contiene información sobre películas, información relacionada con el éxito de dichas películas en cuanto a popularidad y venta de entradas.\n",
    "\n",
    "El dataset se encuentra en el archivo `data/movies.csv`, y consta de las siguientes columnas:\n",
    "\n",
    "```\n",
    "    belongs_to_collection (franquicia): Nombre de la franquicia a la cual pertenece la película.\n",
    "    budget (presupuesto): Presupuesto de la película en dólares.\n",
    "    genres (genero): Género de la pelicula.\n",
    "    homepage (pagina_web): Página Web oficial de la película.\n",
    "    imdb_id: ID de la película en IMDB.\n",
    "    original_language (lenguaje): El lenguage original en el que se rodó la película.\n",
    "    overview: Descripción de la película.\n",
    "    popularity (popularidad): Puntuación de Popularidad.\n",
    "    poster_path (poster): url del poster de la película\n",
    "    production_companies (productores): Lista de compañias que produjeron la pelicula\n",
    "    production_countries (pais): Pais de produccion de la película\n",
    "    release_date (fecha_estreno): Fecha del estreno  de la película\n",
    "    revenue (ventas): Ventas de entradas en dólares de la película.\n",
    "    runtime (duracion): Duración en minutos de la película.\n",
    "    status (estado): Estado de la película (estrenada, en producción, etc).\n",
    "    tagline: Frase descriptiva de la película.\n",
    "    title (titulo): Título de la película.\n",
    "    vote_average (puntuacion): Puntuación media de la película.\n",
    "    vote_count (n_votos): Número de votos.\n",
    "```\n",
    "\n"
   ]
  },
  {
   "cell_type": "markdown",
   "metadata": {},
   "source": [
    "Vamos a usar el dataset de películas. Para este ejercicio la variable objetivo es las ventas en taquilla de la película (la columna `revenue`)"
   ]
  },
  {
   "cell_type": "code",
   "execution_count": 130,
   "metadata": {},
   "outputs": [
    {
     "data": {
      "text/html": [
       "<div>\n",
       "<style scoped>\n",
       "    .dataframe tbody tr th:only-of-type {\n",
       "        vertical-align: middle;\n",
       "    }\n",
       "\n",
       "    .dataframe tbody tr th {\n",
       "        vertical-align: top;\n",
       "    }\n",
       "\n",
       "    .dataframe thead th {\n",
       "        text-align: right;\n",
       "    }\n",
       "</style>\n",
       "<table border=\"1\" class=\"dataframe\">\n",
       "  <thead>\n",
       "    <tr style=\"text-align: right;\">\n",
       "      <th></th>\n",
       "      <th>franquicia</th>\n",
       "      <th>presupuesto</th>\n",
       "      <th>genero</th>\n",
       "      <th>pagina_web</th>\n",
       "      <th>imdb_id</th>\n",
       "      <th>lenguaje</th>\n",
       "      <th>popularidad</th>\n",
       "      <th>productores</th>\n",
       "      <th>pais</th>\n",
       "      <th>fecha_estreno</th>\n",
       "      <th>ventas</th>\n",
       "      <th>duracion</th>\n",
       "      <th>estado</th>\n",
       "      <th>titulo</th>\n",
       "      <th>puntuacion</th>\n",
       "      <th>n_votos</th>\n",
       "    </tr>\n",
       "  </thead>\n",
       "  <tbody>\n",
       "    <tr>\n",
       "      <th>0</th>\n",
       "      <td>Father of the Bride Collection</td>\n",
       "      <td>NaN</td>\n",
       "      <td>Comedy</td>\n",
       "      <td>NaN</td>\n",
       "      <td>tt0113041</td>\n",
       "      <td>en</td>\n",
       "      <td>8.387519</td>\n",
       "      <td>Sandollar Productions</td>\n",
       "      <td>United States of America</td>\n",
       "      <td>1995-02-10</td>\n",
       "      <td>76578911.0</td>\n",
       "      <td>106.0</td>\n",
       "      <td>Released</td>\n",
       "      <td>Father of the Bride Part II</td>\n",
       "      <td>5.7</td>\n",
       "      <td>173.0</td>\n",
       "    </tr>\n",
       "    <tr>\n",
       "      <th>1</th>\n",
       "      <td>NaN</td>\n",
       "      <td>NaN</td>\n",
       "      <td>Drama</td>\n",
       "      <td>NaN</td>\n",
       "      <td>tt0112749</td>\n",
       "      <td>en</td>\n",
       "      <td>0.894647</td>\n",
       "      <td>Miramax</td>\n",
       "      <td>South Africa</td>\n",
       "      <td>1995-12-15</td>\n",
       "      <td>676525.0</td>\n",
       "      <td>106.0</td>\n",
       "      <td>Released</td>\n",
       "      <td>Cry, the Beloved Country</td>\n",
       "      <td>6.7</td>\n",
       "      <td>13.0</td>\n",
       "    </tr>\n",
       "    <tr>\n",
       "      <th>2</th>\n",
       "      <td>Friday Collection</td>\n",
       "      <td>3500000.0</td>\n",
       "      <td>Comedy</td>\n",
       "      <td>http://www.newline.com/properties/friday.html</td>\n",
       "      <td>tt0113118</td>\n",
       "      <td>en</td>\n",
       "      <td>14.569650</td>\n",
       "      <td>New Line Cinema</td>\n",
       "      <td>United States of America</td>\n",
       "      <td>1995-04-26</td>\n",
       "      <td>28215918.0</td>\n",
       "      <td>91.0</td>\n",
       "      <td>Released</td>\n",
       "      <td>Friday</td>\n",
       "      <td>7.0</td>\n",
       "      <td>513.0</td>\n",
       "    </tr>\n",
       "    <tr>\n",
       "      <th>3</th>\n",
       "      <td>NaN</td>\n",
       "      <td>NaN</td>\n",
       "      <td>Comedy</td>\n",
       "      <td>NaN</td>\n",
       "      <td>tt0115697</td>\n",
       "      <td>en</td>\n",
       "      <td>8.963037</td>\n",
       "      <td>Paramount Pictures</td>\n",
       "      <td>United States of America</td>\n",
       "      <td>1996-02-01</td>\n",
       "      <td>32.0</td>\n",
       "      <td>87.0</td>\n",
       "      <td>Released</td>\n",
       "      <td>Black Sheep</td>\n",
       "      <td>6.0</td>\n",
       "      <td>124.0</td>\n",
       "    </tr>\n",
       "    <tr>\n",
       "      <th>4</th>\n",
       "      <td>NaN</td>\n",
       "      <td>12000000.0</td>\n",
       "      <td>Comedy</td>\n",
       "      <td>NaN</td>\n",
       "      <td>tt0116483</td>\n",
       "      <td>en</td>\n",
       "      <td>9.592265</td>\n",
       "      <td>Universal Pictures</td>\n",
       "      <td>United States of America</td>\n",
       "      <td>1996-02-16</td>\n",
       "      <td>41205099.0</td>\n",
       "      <td>92.0</td>\n",
       "      <td>Released</td>\n",
       "      <td>Happy Gilmore</td>\n",
       "      <td>6.5</td>\n",
       "      <td>767.0</td>\n",
       "    </tr>\n",
       "  </tbody>\n",
       "</table>\n",
       "</div>"
      ],
      "text/plain": [
       "                       franquicia  presupuesto  genero  \\\n",
       "0  Father of the Bride Collection          NaN  Comedy   \n",
       "1                             NaN          NaN   Drama   \n",
       "2               Friday Collection    3500000.0  Comedy   \n",
       "3                             NaN          NaN  Comedy   \n",
       "4                             NaN   12000000.0  Comedy   \n",
       "\n",
       "                                      pagina_web    imdb_id lenguaje  \\\n",
       "0                                            NaN  tt0113041       en   \n",
       "1                                            NaN  tt0112749       en   \n",
       "2  http://www.newline.com/properties/friday.html  tt0113118       en   \n",
       "3                                            NaN  tt0115697       en   \n",
       "4                                            NaN  tt0116483       en   \n",
       "\n",
       "   popularidad            productores                      pais fecha_estreno  \\\n",
       "0     8.387519  Sandollar Productions  United States of America    1995-02-10   \n",
       "1     0.894647                Miramax              South Africa    1995-12-15   \n",
       "2    14.569650        New Line Cinema  United States of America    1995-04-26   \n",
       "3     8.963037     Paramount Pictures  United States of America    1996-02-01   \n",
       "4     9.592265     Universal Pictures  United States of America    1996-02-16   \n",
       "\n",
       "       ventas  duracion    estado                       titulo  puntuacion  \\\n",
       "0  76578911.0     106.0  Released  Father of the Bride Part II         5.7   \n",
       "1    676525.0     106.0  Released     Cry, the Beloved Country         6.7   \n",
       "2  28215918.0      91.0  Released                       Friday         7.0   \n",
       "3        32.0      87.0  Released                  Black Sheep         6.0   \n",
       "4  41205099.0      92.0  Released                Happy Gilmore         6.5   \n",
       "\n",
       "   n_votos  \n",
       "0    173.0  \n",
       "1     13.0  \n",
       "2    513.0  \n",
       "3    124.0  \n",
       "4    767.0  "
      ]
     },
     "execution_count": 130,
     "metadata": {},
     "output_type": "execute_result"
    }
   ],
   "source": [
    "pelis = pd.read_csv(\"data/movies.csv\")\n",
    "pelis.head()"
   ]
  },
  {
   "cell_type": "code",
   "execution_count": 131,
   "metadata": {},
   "outputs": [],
   "source": [
    "independientes = pelis.select_dtypes([np.int64, np.float64])\n",
    "dependiente = pelis[\"ventas\"]"
   ]
  },
  {
   "cell_type": "code",
   "execution_count": 132,
   "metadata": {},
   "outputs": [
    {
     "data": {
      "text/html": [
       "<div>\n",
       "<style scoped>\n",
       "    .dataframe tbody tr th:only-of-type {\n",
       "        vertical-align: middle;\n",
       "    }\n",
       "\n",
       "    .dataframe tbody tr th {\n",
       "        vertical-align: top;\n",
       "    }\n",
       "\n",
       "    .dataframe thead th {\n",
       "        text-align: right;\n",
       "    }\n",
       "</style>\n",
       "<table border=\"1\" class=\"dataframe\">\n",
       "  <thead>\n",
       "    <tr style=\"text-align: right;\">\n",
       "      <th></th>\n",
       "      <th>presupuesto</th>\n",
       "      <th>popularidad</th>\n",
       "      <th>duracion</th>\n",
       "      <th>puntuacion</th>\n",
       "      <th>n_votos</th>\n",
       "    </tr>\n",
       "  </thead>\n",
       "  <tbody>\n",
       "    <tr>\n",
       "      <th>0</th>\n",
       "      <td>0.0</td>\n",
       "      <td>8.387519</td>\n",
       "      <td>106.0</td>\n",
       "      <td>5.7</td>\n",
       "      <td>173.0</td>\n",
       "    </tr>\n",
       "    <tr>\n",
       "      <th>1</th>\n",
       "      <td>0.0</td>\n",
       "      <td>0.894647</td>\n",
       "      <td>106.0</td>\n",
       "      <td>6.7</td>\n",
       "      <td>13.0</td>\n",
       "    </tr>\n",
       "    <tr>\n",
       "      <th>2</th>\n",
       "      <td>3500000.0</td>\n",
       "      <td>14.569650</td>\n",
       "      <td>91.0</td>\n",
       "      <td>7.0</td>\n",
       "      <td>513.0</td>\n",
       "    </tr>\n",
       "    <tr>\n",
       "      <th>3</th>\n",
       "      <td>0.0</td>\n",
       "      <td>8.963037</td>\n",
       "      <td>87.0</td>\n",
       "      <td>6.0</td>\n",
       "      <td>124.0</td>\n",
       "    </tr>\n",
       "    <tr>\n",
       "      <th>4</th>\n",
       "      <td>12000000.0</td>\n",
       "      <td>9.592265</td>\n",
       "      <td>92.0</td>\n",
       "      <td>6.5</td>\n",
       "      <td>767.0</td>\n",
       "    </tr>\n",
       "  </tbody>\n",
       "</table>\n",
       "</div>"
      ],
      "text/plain": [
       "   presupuesto  popularidad  duracion  puntuacion  n_votos\n",
       "0          0.0     8.387519     106.0         5.7    173.0\n",
       "1          0.0     0.894647     106.0         6.7     13.0\n",
       "2    3500000.0    14.569650      91.0         7.0    513.0\n",
       "3          0.0     8.963037      87.0         6.0    124.0\n",
       "4   12000000.0     9.592265      92.0         6.5    767.0"
      ]
     },
     "execution_count": 132,
     "metadata": {},
     "output_type": "execute_result"
    }
   ],
   "source": [
    "independientes = independientes.fillna(0.000)\n",
    "independientes = independientes.drop(\"ventas\",axis=1)\n",
    "independientes.head()"
   ]
  },
  {
   "cell_type": "code",
   "execution_count": 133,
   "metadata": {},
   "outputs": [
    {
     "data": {
      "text/plain": [
       "0    76578911.0\n",
       "1      676525.0\n",
       "2    28215918.0\n",
       "3          32.0\n",
       "4    41205099.0\n",
       "Name: ventas, dtype: float64"
      ]
     },
     "execution_count": 133,
     "metadata": {},
     "output_type": "execute_result"
    }
   ],
   "source": [
    "dependiente=dependiente.fillna(0.000)\n",
    "dependiente.head()"
   ]
  },
  {
   "cell_type": "code",
   "execution_count": 134,
   "metadata": {},
   "outputs": [],
   "source": [
    "from sklearn.linear_model import LinearRegression"
   ]
  },
  {
   "cell_type": "code",
   "execution_count": 135,
   "metadata": {},
   "outputs": [],
   "source": [
    "modelo = LinearRegression()"
   ]
  },
  {
   "cell_type": "code",
   "execution_count": 136,
   "metadata": {},
   "outputs": [
    {
     "data": {
      "text/plain": [
       "LinearRegression(copy_X=True, fit_intercept=True, n_jobs=None,\n",
       "         normalize=False)"
      ]
     },
     "execution_count": 136,
     "metadata": {},
     "output_type": "execute_result"
    }
   ],
   "source": [
    "modelo.fit(X=independientes, y=dependiente)"
   ]
  },
  {
   "cell_type": "code",
   "execution_count": 137,
   "metadata": {},
   "outputs": [
    {
     "data": {
      "text/plain": [
       "array([ 1.22671818e+00, -2.86498152e+05,  4.72544841e+04,  5.48802981e+05,\n",
       "        6.68634838e+04])"
      ]
     },
     "execution_count": 137,
     "metadata": {},
     "output_type": "execute_result"
    }
   ],
   "source": [
    "modelo.coef_"
   ]
  },
  {
   "cell_type": "code",
   "execution_count": 138,
   "metadata": {},
   "outputs": [],
   "source": [
    "pelis[\"ventas_pred\"]=modelo.predict(independientes)"
   ]
  },
  {
   "cell_type": "code",
   "execution_count": 141,
   "metadata": {},
   "outputs": [],
   "source": [
    "from sklearn import metrics"
   ]
  },
  {
   "cell_type": "markdown",
   "metadata": {},
   "source": [
    "Error cuadrático absoluto"
   ]
  },
  {
   "cell_type": "code",
   "execution_count": 143,
   "metadata": {},
   "outputs": [
    {
     "data": {
      "text/plain": [
       "19530438.969785903"
      ]
     },
     "execution_count": 143,
     "metadata": {},
     "output_type": "execute_result"
    }
   ],
   "source": [
    "metrics.mean_absolute_error(pelis[\"ventas\"].fillna(0),pelis[\"ventas_pred\"])"
   ]
  },
  {
   "cell_type": "markdown",
   "metadata": {},
   "source": [
    "Raiz error cuadrático medio"
   ]
  },
  {
   "cell_type": "code",
   "execution_count": 145,
   "metadata": {},
   "outputs": [
    {
     "data": {
      "text/plain": [
       "38517729.45375325"
      ]
     },
     "execution_count": 145,
     "metadata": {},
     "output_type": "execute_result"
    }
   ],
   "source": [
    "np.sqrt(metrics.mean_squared_error(pelis[\"ventas\"].fillna(0),pelis[\"ventas_pred\"]))"
   ]
  },
  {
   "cell_type": "markdown",
   "metadata": {},
   "source": [
    "Coeficiente de determinación"
   ]
  },
  {
   "cell_type": "code",
   "execution_count": 148,
   "metadata": {},
   "outputs": [
    {
     "data": {
      "text/plain": [
       "0.6051462764566803"
      ]
     },
     "execution_count": 148,
     "metadata": {},
     "output_type": "execute_result"
    }
   ],
   "source": [
    "metrics.r2_score(pelis[\"ventas\"].fillna(0),pelis[\"ventas_pred\"])"
   ]
  }
 ],
 "metadata": {
  "kernelspec": {
   "display_name": "Python 3",
   "language": "python",
   "name": "python3"
  },
  "language_info": {
   "codemirror_mode": {
    "name": "ipython",
    "version": 3
   },
   "file_extension": ".py",
   "mimetype": "text/x-python",
   "name": "python",
   "nbconvert_exporter": "python",
   "pygments_lexer": "ipython3",
   "version": "3.7.2"
  }
 },
 "nbformat": 4,
 "nbformat_minor": 2
}
